{
 "cells": [
  {
   "cell_type": "markdown",
   "id": "5fd9151e-8934-4cd2-bacf-e17fc9854d45",
   "metadata": {},
   "source": [
    "# Imports"
   ]
  },
  {
   "cell_type": "code",
   "execution_count": null,
   "id": "e07b0dd6-1b1f-4023-b8d5-0a081c7ab3d1",
   "metadata": {},
   "outputs": [],
   "source": [
    "import numpy as np\n",
    "import matplotlib.pyplot as plt\n",
    "import pandas as pd\n",
    "from datetime import datetime\n",
    "import pickle\n",
    "\n",
    "from qiskit import *\n",
    "from qiskit.providers.ibmq.managed import IBMQJobManager\n",
    "from qiskit.ignis.mitigation.measurement import (complete_meas_cal, tensored_meas_cal,\n",
    "                                                 CompleteMeasFitter, TensoredMeasFitter)\n"
   ]
  },
  {
   "cell_type": "code",
   "execution_count": null,
   "id": "ab92d946-0a18-4e87-ab6b-1b76ec22caed",
   "metadata": {},
   "outputs": [],
   "source": [
    "import rotcounterrot as rcr\n",
    "#import vqe\n",
    "import zne\n",
    "from zne import *"
   ]
  },
  {
   "cell_type": "markdown",
   "id": "0ca0277f-f282-4f78-9d64-d1e499db239c",
   "metadata": {},
   "source": [
    "# Setup"
   ]
  },
  {
   "cell_type": "code",
   "execution_count": null,
   "id": "7df111c7-a2fd-4271-87d5-5e4542d789b7",
   "metadata": {},
   "outputs": [],
   "source": [
    "token = ''  # Put in your IBM token\n",
    "#IBMQ.save_account(token, overwrite=True)\n",
    "IBMQ.load_account()\n",
    "provider = IBMQ.get_provider(group='open')"
   ]
  },
  {
   "cell_type": "code",
   "execution_count": null,
   "id": "88ad4954-4728-49e2-bad0-d29c9367fd1f",
   "metadata": {},
   "outputs": [],
   "source": [
    "backend_sim = 'ibmq_qasm_simulator'\n",
    "backends = [\"ibmq_manila\", \"ibmq_quito\", \"ibmq_belem\", \"ibmq_lima\", \"ibm_oslo\", \"ibm_nairobi\"]\n",
    "\n",
    "job_manager = IBMQJobManager()\n",
    "backend_name = backends[0]      # Either use backend_sim for simulator, or backends[x] for device\n",
    "backend = provider.get_backend(backend_name) \n",
    "print(backend)\n",
    "\n",
    "n_qubits = 4\n",
    "best_qubits = [1,2,3,4]  # A list of four (linearly connected) qubits\n",
    "shots_num = 8000\n",
    "beta = np.pi/2"
   ]
  },
  {
   "cell_type": "markdown",
   "id": "edf0b3a2-6640-40df-8fa9-c61de23e6464",
   "metadata": {},
   "source": [
    "# Running the Rotation-Counter Rotation Experiment"
   ]
  },
  {
   "cell_type": "code",
   "execution_count": null,
   "id": "d0b867a8-d98b-447d-8fbc-62d08d7fd12b",
   "metadata": {},
   "outputs": [],
   "source": [
    "# Coefficients of T operator\n",
    "acoeff_load = np.load(\"Re1_L4.npy\")  # or np.genfromtxt(\"\")\n",
    "bcoeff_load = np.load(\"ReX_L4.npy\")  # or np.genfromtxt(\"\")"
   ]
  },
  {
   "cell_type": "code",
   "execution_count": null,
   "id": "2240d61b-e942-4163-9c2a-b149b31316b5",
   "metadata": {},
   "outputs": [],
   "source": [
    "# Cell for reducing number of points for quicker tests\n",
    "# start:stop:step\n",
    "acoeff_ar = acoeff_load[0:200:10]\n",
    "bcoeff_ar = bcoeff_load[0:200:10]\n",
    "\n",
    "assert len(acoeff_ar)==len(bcoeff_ar), \"Length of coefficient arrays dont match\"\n",
    "\n",
    "num_coeff = len(acoeff_ar)\n",
    "print(num_coeff)\n",
    "\n",
    " "
   ]
  },
  {
   "cell_type": "markdown",
   "id": "9c7ed080-0380-4576-a5c2-ba3bea8c24c8",
   "metadata": {},
   "source": [
    "#### Parameters for ZNE"
   ]
  },
  {
   "cell_type": "code",
   "execution_count": null,
   "id": "958fdb66-5673-44da-899e-3fa09d2e02f3",
   "metadata": {
    "tags": []
   },
   "outputs": [],
   "source": [
    "# scale factors representing how many times CNOTs are repeated\n",
    "# must be list of odd positive integers\n",
    "scale_factors = [1,3,5,7]\n",
    "num_sf = len(scale_factors)\n",
    "\n",
    "# Choose if and how many times you want to repeat your circuits for error estimate\n",
    "repeat_circs = False #### set to true if you want to repeat your experiments for mean and std\n",
    "# Initialize num_reps to 1\n",
    "num_reps = 1\n",
    "# Change num_reps to chosen value for repeating circuits\n",
    "if repeat_circs:\n",
    "    num_reps = 5\n",
    "\n",
    "\n",
    "fit_types = [\"expquadlin\", \"expquad\", \"quadratic\", \"exponential\"]"
   ]
  },
  {
   "cell_type": "markdown",
   "id": "cae9699e-918b-4e5b-ad92-b9a950750c25",
   "metadata": {},
   "source": [
    "#### Building Circuits List"
   ]
  },
  {
   "cell_type": "code",
   "execution_count": null,
   "id": "e117f4cd-0d63-4b2f-97d3-3ba823ac9ef6",
   "metadata": {
    "tags": []
   },
   "outputs": [],
   "source": [
    "# circuits for all a and b coefficients and scale factors\n",
    "circ_list_sf = rcr.generate_circuits_zne(beta, acoeff_ar, bcoeff_ar, scale_factors)\n",
    "\n",
    "circ_list_final = zne.repeat_circuits(circ_list_sf, num_reps)"
   ]
  },
  {
   "cell_type": "markdown",
   "id": "c87c24e3-f664-43a3-aca2-55eb2e1706c3",
   "metadata": {
    "tags": []
   },
   "source": [
    "#### Run circuit list with and without readout error mitigation"
   ]
  },
  {
   "cell_type": "code",
   "execution_count": null,
   "id": "96ea5c22-ad5a-4fd1-a7f0-bb5a4d327c07",
   "metadata": {},
   "outputs": [],
   "source": [
    "res_list, mit_res_list, meas_fitter = zne.ibmq_executor_results_meascal(n_qubits, circ_list_final, backend, job_manager, shots=shots_num, layout=best_qubits)"
   ]
  },
  {
   "cell_type": "markdown",
   "id": "57ba9d96-7685-45f9-a455-c2e1753bc167",
   "metadata": {},
   "source": [
    "#### Getting logicX and logicXerr values from counts"
   ]
  },
  {
   "cell_type": "code",
   "execution_count": null,
   "id": "7243ed11-14d6-415b-a868-9dd707aca3ad",
   "metadata": {},
   "outputs": [],
   "source": [
    "X_mit, Xerr_mit, df_mitres = zne.rcr_X_from_counts(mit_res_list, beta, acoeff_ar, bcoeff_ar, num_sf, num_reps)\n",
    "X_raw, Xerr_raw, df_rawres = zne.rcr_X_from_counts(res_list, beta, acoeff_ar, bcoeff_ar, num_sf, num_reps)"
   ]
  },
  {
   "cell_type": "markdown",
   "id": "84b53677-841e-4019-8e65-f2db70eb8f53",
   "metadata": {},
   "source": [
    "#### Getting mean and std corresponding to repeat_circs from the expectation values"
   ]
  },
  {
   "cell_type": "code",
   "execution_count": null,
   "id": "9bfd3f53-3e49-4c09-b85e-5362e60950e5",
   "metadata": {},
   "outputs": [],
   "source": [
    "if repeat_circs:\n",
    "    X_raw_mean = np.mean(X_raw, axis=2)\n",
    "    X_raw_std = np.std(X_raw, axis=2)\n",
    "    X_mit_mean = np.mean(X_mit, axis=2)\n",
    "    X_mit_std = np.std(X_mit, axis=2)"
   ]
  },
  {
   "cell_type": "markdown",
   "id": "6888dae6-cbc4-4d48-b3eb-0c5ac6fba8f9",
   "metadata": {},
   "source": [
    "#### Extrapolation according to fit_types"
   ]
  },
  {
   "cell_type": "code",
   "execution_count": null,
   "id": "1a86a657-8086-4efa-89b2-175c8f5f2d10",
   "metadata": {},
   "outputs": [],
   "source": [
    "# initialize array for storing extrapolated values\n",
    "# initialize arrays for storing fit parameters and their standard deviations\n",
    "if \"linear\" in fit_types:\n",
    "    X0_l = np.zeros((num_coeff,2)) # 1st row for raw, 2nd row for mit \n",
    "    popt_l = np.zeros((num_coeff,2,2)) # 2nd index for raw/mit and 3rd index for params_linear\n",
    "    pstd_l = np.zeros((num_coeff,2,2)) # 2nd index for raw/mit and 3rd index for param errs\n",
    "\n",
    "if \"quadratic\" in fit_types:\n",
    "    X0_q = np.zeros((num_coeff,2)) # 1st row for raw, 2nd row for mit \n",
    "    popt_q = np.zeros((num_coeff,2,2)) # 2nd index for raw/mit and 3rd index for params_quadratic\n",
    "    pstd_q = np.zeros((num_coeff,2,2)) # 2nd index for raw/mit and 3rd index for param errs\n",
    "    \n",
    "if \"exponential\" in fit_types:\n",
    "    X0_e = np.zeros((num_coeff,2)) # 1st row for raw, 2nd row for mit \n",
    "    popt_e = np.zeros((num_coeff,2,2)) # 2nd index for raw/mit and 3rd index for params_exponential\n",
    "    pstd_e = np.zeros((num_coeff,2,2)) # 2nd index for raw/mit and 3rd index for param errs\n",
    "\n",
    "if \"tanh\" in fit_types:\n",
    "    X0_t = np.zeros((num_coeff,2)) # 1st row for raw, 2nd row for mit\n",
    "    popt_t = np.zeros((num_coeff,2,2)) # 2nd index for raw/mit and 3rd index for params_tanh\n",
    "    pstd_t = np.zeros((num_coeff,2,2)) # 2nd index for raw/mit and 3rd index for param errs\n",
    "\n",
    "if \"expquad\" in fit_types:\n",
    "    X0_eq = np.zeros((num_coeff,2)) # 1st row for raw, 2nd row for mit \n",
    "    popt_eq = np.zeros((num_coeff,2,2)) # 2nd index for raw/mit and 3rd index for params_exponential\n",
    "    pstd_eq = np.zeros((num_coeff,2,2)) # 2nd index for raw/mit and 3rd index for param errs\n",
    "\n",
    "if \"expquadlin\" in fit_types:\n",
    "    X0_el = np.zeros((num_coeff,2)) # 1st row for raw, 2nd row for mit \n",
    "    popt_el = np.zeros((num_coeff,2,3)) # 2nd index for raw/mit and 3rd index for params_exponential\n",
    "    pstd_el = np.zeros((num_coeff,2,3)) # 2nd index for raw/mit and 3rd index for param errs\n",
    "\n",
    "\n",
    "# expectation value of X without any error mitigation\n",
    "X0_raw = X_raw[0,:]\n",
    "# expectation value of X with only measurement error mitigation\n",
    "X0_mit = X_mit[0,:]\n",
    "\n",
    "\n",
    "xdata = np.array(scale_factors)\n",
    "\n",
    "pr = False\n",
    "for i in range(num_coeff):\n",
    "    #print(f'Fitting for i = {i}=================')\n",
    "    y_raw = X_raw[:,i]\n",
    "    y_mit = X_mit[:,i]\n",
    "    if repeat_circs:\n",
    "        sigma_raw = X_raw_std[:,i]\n",
    "        sigma_mit = X_mit_std[:,i]\n",
    "    else:\n",
    "        sigma_raw = None\n",
    "        sigma_mit = None\n",
    "\n",
    "    # linear fit and updating values\n",
    "    if \"linear\" in fit_types:\n",
    "        x0_l_raw, popt_l_raw, pcov_l_raw = zne.extrapolate_res(linear, xdata, y_raw, sigma=sigma_raw)\n",
    "        x0_l_mit, popt_l_mit, pcov_l_mit = zne.extrapolate_res(linear, xdata, y_mit, sigma=sigma_mit)\n",
    "        X0_l[i,0] = x0_l_raw\n",
    "        X0_l[i,1] = x0_l_mit\n",
    "        popt_l[i,0,:] = popt_l_raw\n",
    "        popt_l[i,1,:] = popt_l_mit\n",
    "        pstd_l[i,0,:] = np.sqrt(np.diag(pcov_l_raw))\n",
    "        pstd_l[i,1,:] = np.sqrt(np.diag(pcov_l_mit))\n",
    "        if pr: print(\"Linear fit completed\")\n",
    "    \n",
    "    # quadratic fit and updating values\n",
    "    if \"quadratic\" in fit_types:\n",
    "        x0_q_raw, popt_q_raw, pcov_q_raw = zne.extrapolate_res(quadratic, xdata, y_raw, sigma=sigma_raw)\n",
    "        x0_q_mit, popt_q_mit, pcov_q_mit = zne.extrapolate_res(quadratic, xdata, y_mit, sigma=sigma_mit)\n",
    "        X0_q[i,0] = x0_q_raw\n",
    "        X0_q[i,1] = x0_q_mit\n",
    "        popt_q[i,0,:] = popt_q_raw\n",
    "        popt_q[i,1,:] = popt_q_mit\n",
    "        pstd_q[i,0,:] = np.sqrt(np.diag(pcov_q_raw))\n",
    "        pstd_q[i,1,:] = np.sqrt(np.diag(pcov_q_mit))\n",
    "        if pr: print(\"Quadratic fit completed\")\n",
    "  \n",
    "    # tanh fit and updating values\n",
    "    if \"tanh\" in fit_types:\n",
    "        x0_t_raw, popt_t_raw, pcov_t_raw = zne.extrapolate_res(tanhyp, xdata, y_raw, sigma=sigma_raw)\n",
    "        x0_t_mit, popt_t_mit, pcov_t_mit = zne.extrapolate_res(tanhyp, xdata, y_mit, sigma=sigma_mit)\n",
    "        X0_t[i,0] = x0_t_raw\n",
    "        X0_t[i,1] = x0_t_mit\n",
    "        popt_t[i,0,:] = popt_t_raw\n",
    "        popt_t[i,1,:] = popt_t_mit\n",
    "        pstd_t[i,0,:] = np.sqrt(np.diag(pcov_t_raw))\n",
    "        pstd_t[i,1,:] = np.sqrt(np.diag(pcov_t_mit))\n",
    "        if pr: print(\"Tanh fit completed\")\n",
    "    \n",
    "    # exponential fit and updating values\n",
    "    if \"exponential\" in fit_types:\n",
    "        x0_e_raw, popt_e_raw, pcov_e_raw = zne.extrapolate_res(expfit2, xdata, y_raw, sigma=sigma_raw)\n",
    "        x0_e_mit, popt_e_mit, pcov_e_mit = zne.extrapolate_res(expfit2, xdata, y_mit, sigma=sigma_mit)\n",
    "        X0_e[i,0] = x0_e_raw\n",
    "        X0_e[i,1] = x0_e_mit\n",
    "        popt_e[i,0,:] = popt_e_raw\n",
    "        popt_e[i,1,:] = popt_e_mit\n",
    "        pstd_e[i,0,:] = np.sqrt(np.diag(pcov_e_raw))\n",
    "        pstd_e[i,1,:] = np.sqrt(np.diag(pcov_e_mit))\n",
    "        if pr: print(\"Exponential fit completed\")\n",
    "        \n",
    "    # exponential fit and updating values\n",
    "    if \"expquad\" in fit_types:\n",
    "        x0_eq_raw, popt_eq_raw, pcov_eq_raw = zne.extrapolate_res(expquadfit, xdata, y_raw, sigma=sigma_raw)\n",
    "        x0_eq_mit, popt_eq_mit, pcov_eq_mit = zne.extrapolate_res(expquadfit, xdata, y_mit, sigma=sigma_mit)\n",
    "        X0_eq[i,0] = x0_eq_raw\n",
    "        X0_eq[i,1] = x0_eq_mit\n",
    "        popt_eq[i,0,:] = popt_eq_raw\n",
    "        popt_eq[i,1,:] = popt_eq_mit\n",
    "        pstd_eq[i,0,:] = np.sqrt(np.diag(pcov_eq_raw))\n",
    "        pstd_eq[i,1,:] = np.sqrt(np.diag(pcov_eq_mit))\n",
    "        if pr: print(\"Gaussian fit completed\")\n",
    "       \n",
    "    # exponential fit and updating values\n",
    "    if \"expquadlin\" in fit_types:\n",
    "        x0_el_raw, popt_el_raw, pcov_el_raw = zne.extrapolate_res(expquadlinfit, xdata, y_raw, sigma=sigma_raw)\n",
    "        x0_el_mit, popt_el_mit, pcov_el_mit = zne.extrapolate_res(expquadlinfit, xdata, y_mit, sigma=sigma_mit)\n",
    "        X0_el[i,0] = x0_el_raw\n",
    "        X0_el[i,1] = x0_el_mit\n",
    "        popt_el[i,0,:] = popt_el_raw\n",
    "        popt_el[i,1,:] = popt_el_mit\n",
    "        pstd_el[i,0,:] = np.sqrt(np.diag(pcov_el_raw))\n",
    "        pstd_el[i,1,:] = np.sqrt(np.diag(pcov_el_mit))\n",
    "        if pr: print(\"ExpQuadLin fit completed\")"
   ]
  },
  {
   "cell_type": "markdown",
   "id": "3a7dfb79",
   "metadata": {},
   "source": [
    "#### Parameters used to save data or figs"
   ]
  },
  {
   "cell_type": "code",
   "execution_count": null,
   "id": "e72b906a",
   "metadata": {},
   "outputs": [],
   "source": [
    "now = datetime.now()\n",
    "date = now.strftime(\"%d_%m\")\n",
    "exp_num = now.strftime(\"%H\")\n"
   ]
  },
  {
   "cell_type": "markdown",
   "id": "91d35836-def3-42a9-be23-228c67faa46e",
   "metadata": {},
   "source": [
    "### Saving data"
   ]
  },
  {
   "cell_type": "code",
   "execution_count": null,
   "id": "be5c5c5f",
   "metadata": {},
   "outputs": [],
   "source": [
    "savefile = True\n",
    "# save the counts as csv\n",
    "if savefile:\n",
    "    df_rawres.to_csv(date + \"_exp\" + exp_num + '_' + backend_name + \"_rawres.csv\")\n",
    "    df_mitres.to_csv(date + \"_exp\" + exp_num + '_' + backend_name + \"_mitres.csv\")\n",
    "    "
   ]
  },
  {
   "cell_type": "code",
   "execution_count": null,
   "id": "165c50ef",
   "metadata": {},
   "outputs": [],
   "source": [
    "#dictionary with configurations and results to be saved as pickle file\n",
    "\n",
    "if savefile:\n",
    "    file_dict = {}\n",
    "    \n",
    "    # backend info\n",
    "    file_dict['backend_name'] = backend_name\n",
    "    \n",
    "    # experiment parameters\n",
    "    file_dict['n_qubits'] = n_qubits\n",
    "    file_dict['best_qubits'] = best_qubits\n",
    "    file_dict['shots_num'] = shots_num\n",
    "    file_dict['scale_factors'] = scale_factors\n",
    "    file_dict['repeat_circs'] = repeat_circs\n",
    "    \n",
    "    # results\n",
    "    file_dict['meas_fitter'] = meas_fitter\n",
    "    file_dict['X_raw'] = X_raw\n",
    "    file_dict['X_mit'] = X_mit\n",
    "    file_dict['Xerr_raw'] = Xerr_raw\n",
    "    file_dict['Xerr_mit'] = Xerr_mit\n",
    "    \n",
    "    file_dict['X0_raw'] = X0_raw\n",
    "    file_dict['X0_mit'] = X0_mit\n",
    "    \n",
    "    if repeat_circs:\n",
    "        file_dict['X_raw_mean'] = X_raw_mean\n",
    "        file_dict['X_mit_mean'] = X_mit_mean\n",
    "        file_dict['X_raw_std'] = X_raw_std\n",
    "        file_dict['X_mit_std'] = X_mit_std\n",
    "    \n",
    "    \n",
    "    file_dict['fit_types'] = fit_types\n",
    "    \n",
    "    if \"linear\" in fit_types:\n",
    "        file_dict['X0_l'] = X0_l\n",
    "        file_dict['popt_l'] = popt_l\n",
    "        file_dict['pstd_l'] = pstd_l\n",
    "    \n",
    "    if \"quadratic\" in fit_types:\n",
    "        file_dict['X0_q'] = X0_q\n",
    "        file_dict['popt_q'] = popt_q\n",
    "        file_dict['pstd_q'] = pstd_q\n",
    "\n",
    "    if \"tanh\" in fit_types:\n",
    "        file_dict['X0_t'] = X0_t\n",
    "        file_dict['popt_t'] = popt_t\n",
    "        file_dict['pstd_t'] = pstd_t\n",
    "    \n",
    "    if \"exponential\" in fit_types:\n",
    "        file_dict['X0_e'] = X0_e\n",
    "        file_dict['popt_e'] = popt_e\n",
    "        file_dict['pstd_e'] = pstd_e\n",
    "    \n",
    "    if \"expquad\" in fit_types:\n",
    "        file_dict['X0_eq'] = X0_e\n",
    "        file_dict['popt_eq'] = popt_eq\n",
    "        file_dict['pstd_eq'] = pstd_eq\n",
    "    \n",
    "    if \"expquadlin\" in fit_types:\n",
    "        file_dict['X0_el'] = X0_el\n",
    "        file_dict['popt_el'] = popt_el\n",
    "        file_dict['pstd_el'] = pstd_el\n",
    "\n",
    "\n",
    "    fname_data = date + \"_exp\" + exp_num + '_' + backend_name + \"_zne_data.p\"\n",
    "    pickle.dump(file_dict, open(fname_data, \"wb\"))"
   ]
  },
  {
   "cell_type": "markdown",
   "id": "a009b151",
   "metadata": {},
   "source": [
    "### Loading data (Set load=True, backend, date and exp_num to load previously saved data,...\n",
    "### SET LOAD=FALSE OTHERWISE)"
   ]
  },
  {
   "cell_type": "code",
   "execution_count": null,
   "id": "f0e39db5",
   "metadata": {},
   "outputs": [],
   "source": [
    "load = True\n",
    "\n",
    "def extract_vars(data_dict, pr=True):\n",
    "    # extract all keys from dict as global variables\n",
    "    \n",
    "    var_names = data_dict.keys()\n",
    "    \n",
    "    if pr: print(\"\\033[1m\"+\"Variable names:\"+\"\\033[0m\")\n",
    "    for var in var_names:\n",
    "        globals()[var] = data_dict[var]\n",
    "        if pr: print(var)\n",
    "    \n",
    "    return var_names\n",
    "\n",
    "\n",
    "if load:\n",
    "    backend_name = 'ibmq_manila'\n",
    "    date = '18_09'\n",
    "    exp_num = '19'\n",
    "    \n",
    "    fname_load = date + \"_exp\" + exp_num + '_' + backend_name + \"_zne_data.p\"\n",
    "\n",
    "    reader = open(fname_load,'rb')\n",
    "    data_dict = pickle.load(reader)\n",
    "\n",
    "    var_names = extract_vars(data_dict, pr=True)\n",
    "    if repeat_circs:\n",
    "        df_rawres = pd.read_csv(date + \"_exp\" + exp_num + '_' + backend_name + \"_rawres.csv\", header=[0,1,2], \n",
    "                                dtype={('step','sf_ind','coeff_ind','rep_num'):str})\n",
    "        df_mitres = pd.read_csv(date + \"_exp\" + exp_num + '_' + backend_name + \"_mitres.csv\", header=[0,1,2], \n",
    "                                dtype={('step','sf_ind','coeff_ind','rep_num'):str})\n",
    "    else:\n",
    "        df_rawres = pd.read_csv(date + \"_exp\" + exp_num + '_' + backend_name + \"_rawres.csv\", header=[0,1,2], \n",
    "                                dtype={('step','sf_ind','coeff_ind'):str})\n",
    "        df_mitres = pd.read_csv(date + \"_exp\" + exp_num + '_' + backend_name + \"_mitres.csv\", header=[0,1,2], \n",
    "                                dtype={('step','sf_ind','coeff_ind'):str})\n",
    "    \n",
    "    "
   ]
  },
  {
   "cell_type": "markdown",
   "id": "3555711d-ddf3-42f6-afd3-0943e0315e67",
   "metadata": {},
   "source": [
    "### Plotting"
   ]
  },
  {
   "cell_type": "code",
   "execution_count": null,
   "id": "2a142167-74e7-4d9e-91c1-6ad68fdad0fd",
   "metadata": {},
   "outputs": [],
   "source": [
    "alpha_ar = np.linspace(0, np.pi/2, len(acoeff_ar))"
   ]
  },
  {
   "cell_type": "code",
   "execution_count": null,
   "id": "18c7e7d9-ef73-425f-abb9-6e5b8335bf0e",
   "metadata": {},
   "outputs": [],
   "source": [
    "#other_data = np.genfromtxt('', delimiter=',')"
   ]
  },
  {
   "cell_type": "code",
   "execution_count": null,
   "id": "5f81a708-cf01-4a69-bd63-998d62740faa",
   "metadata": {},
   "outputs": [],
   "source": [
    "savefig = True\n",
    "errorbar = False\n",
    "\n",
    "if errorbar:\n",
    "    plt.errorbar(alpha_ar, X0_mit, yerr = 2*Xerr_mit[0,:], fmt = \"o\",color = \"blue\", markersize=3, label = \"Meascal Result\")\n",
    "    plt.errorbar(alpha_ar, X0_raw, yerr = 2*Xerr_raw[0,:], fmt = \"o\",color = \"orange\", markersize=3, label = \"Raw Result\")\n",
    "    plt.errorbar(alpha_ar, X0_e[:,1], yerr = 2*Xerr_mit[0,:], fmt = \"o\",color = \"red\", markersize=3, label = \"ZNE Result\")\n",
    "else:\n",
    "    plt.plot(alpha_ar, X0_mit, \"o\",color = \"blue\", markersize=3, label = \"Meascal Result\")\n",
    "    plt.plot(alpha_ar, X0_raw, \"o\",color = \"orange\", markersize=3, label = \"Raw Result\")\n",
    "    plt.plot(alpha_ar, X0_e[:,1], \"o\",color = \"red\", markersize=3, label = \"ZNE Result\")\n",
    "\n",
    "# plt.plot(alpha_ar, other_data, \"r-\", label=\"Theory result\")\n",
    "plt.legend()\n",
    "plt.title(r\"Logical <$\\overline{X}$> vs. Sweep Parameter\", size = 16)\n",
    "plt.xlabel(r\"Sweep parameter $\\frac{2\\alpha}{\\pi}$\", size = 12)\n",
    "plt.ylabel(r\"<$\\overline{X}$> = <$(-1)^{s_1 + s_3}$>\", size = 12)\n",
    "plt.ylim(0,1)\n",
    "plt.xlim(-0.02,1.6)\n",
    "plt.grid(alpha=0.4)\n",
    "# plt.savefig()\n",
    "\n",
    "if savefig:\n",
    "    fname_str = \"rcr_Xalpha_\" + date + \"_exp\" + exp_num + '_' + backend_name + \".pdf\"\n",
    "    plt.savefig(fname_str)\n",
    "\n",
    "plt.show()"
   ]
  },
  {
   "cell_type": "markdown",
   "id": "21fd5193-a541-4b0a-9aab-411219f7967d",
   "metadata": {},
   "source": [
    "# Running VQE"
   ]
  },
  {
   "cell_type": "code",
   "execution_count": null,
   "id": "34c662dd-3749-4804-8e96-df322f174a60",
   "metadata": {},
   "outputs": [],
   "source": [
    "theta_ar = np.linspace(0, np.pi/4, 100)"
   ]
  },
  {
   "cell_type": "markdown",
   "id": "6b247b14-687a-4c4b-8206-a919a0558a1c",
   "metadata": {},
   "source": [
    "Note: If just using the raw VQE data, then only $0 \\leq \\theta \\leq \\pi/4$ is required. If planning to do Fourier sum fits to the VQE data, then $0 \\leq \\theta \\leq \\pi/2$ for $\\langle K_i \\rangle$ and $0 \\leq \\theta \\leq \\pi$ for $\\langle X_i \\rangle$ should be used to capture a full period."
   ]
  },
  {
   "cell_type": "code",
   "execution_count": null,
   "id": "2577963e-4714-4338-9bb0-c8584e842444",
   "metadata": {},
   "outputs": [],
   "source": [
    "best_qubits_one = [0]  # A list containing the position of the best single qubit\n",
    "best_qubits_three = [0,1,2]  # A list containing the postion of the best linearly connected three qubits\n",
    "shots_num = 8000"
   ]
  },
  {
   "cell_type": "markdown",
   "id": "7492f059-cb5f-4f1b-8a49-277db34f7e78",
   "metadata": {},
   "source": [
    "#### Get circuits for K"
   ]
  },
  {
   "cell_type": "code",
   "execution_count": null,
   "id": "df2cd081-f0e5-4606-905b-f8eb2d313768",
   "metadata": {},
   "outputs": [],
   "source": [
    "circ_3q_K = vqe.ciruits_avgK_3q(theta, scale_factors)"
   ]
  },
  {
   "cell_type": "markdown",
   "id": "3b6c21f1-0d52-449f-b5bb-851872b08675",
   "metadata": {},
   "source": [
    "#### Run circuits for K"
   ]
  },
  {
   "cell_type": "code",
   "execution_count": null,
   "id": "a9ea77b4-79c8-40d8-995d-18ff9bdc350c",
   "metadata": {},
   "outputs": [],
   "source": [
    "res_list_K, mit_res_list_K, meas_fitter_K = zne.ibmq_executor_results_meascal(circ_3q_K, backend, job_manager, layout=best_qubits_three)"
   ]
  },
  {
   "cell_type": "markdown",
   "id": "55657df2-2b07-4f8e-af22-1dcbc3c6209a",
   "metadata": {},
   "source": [
    "### Running VQE without measurment error mitigation"
   ]
  },
  {
   "cell_type": "code",
   "execution_count": null,
   "id": "f570dc5c-5119-4ece-9489-82970169d7c6",
   "metadata": {},
   "outputs": [],
   "source": [
    "Xavg_ar, Xerr_ar = vqe.multiple_avgX(backend, best_qubits_one, shots_num, job_manager, theta_ar)"
   ]
  },
  {
   "cell_type": "code",
   "execution_count": null,
   "id": "8a2dff17-11d3-4f7c-86bc-05e8e36112d8",
   "metadata": {},
   "outputs": [],
   "source": [
    "Kavg_ar, Kerr_ar = vqe.multiple_avgK_1q(backend, best_qubits_one, best_qubits_three, shots_num, job_manager, theta_ar)"
   ]
  },
  {
   "cell_type": "markdown",
   "id": "c1850c6f-d17d-4cdb-9f56-618e2cf1cb8f",
   "metadata": {},
   "source": [
    "### Running VQE with measurement error mitigation"
   ]
  },
  {
   "cell_type": "code",
   "execution_count": null,
   "id": "29f06a81-628e-4f36-877b-a65c3064943c",
   "metadata": {},
   "outputs": [],
   "source": [
    "meas_filter_one = rcr.run_meas_error_calibs(backend, best_qubits_one, shots_num)"
   ]
  },
  {
   "cell_type": "code",
   "execution_count": null,
   "id": "30bd50fb-7390-4bdf-92f6-cd4558bf7a71",
   "metadata": {},
   "outputs": [],
   "source": [
    "# meas_filter_three = rcr.run_meas_error_calibs(backend, best_qubits_three, shots_num)"
   ]
  },
  {
   "cell_type": "code",
   "execution_count": null,
   "id": "90620326-fcd9-4942-91eb-f9c62bd59b49",
   "metadata": {},
   "outputs": [],
   "source": [
    "Xavg_ar, Xerr_ar = vqe.multiple_avgX(backend, best_qubits_one, shots_num, job_manager, theta_ar, meas_filter_one)"
   ]
  },
  {
   "cell_type": "code",
   "execution_count": null,
   "id": "ffaa9ed8-ae23-40b1-9679-62d319eda846",
   "metadata": {},
   "outputs": [],
   "source": [
    "Kavg_ar, Kerr_ar = vqe.multiple_avgK(backend, best_qubits_one, best_qubits_three, shots_num, job_manager, theta_ar, meas_filter_one, meas_filter_three)"
   ]
  },
  {
   "cell_type": "markdown",
   "id": "a5548ffa-7088-4e85-bf49-fe880543ff35",
   "metadata": {},
   "source": [
    "### Saving data"
   ]
  },
  {
   "cell_type": "code",
   "execution_count": null,
   "id": "086310b3-8d8a-4478-b39b-af534f026f9f",
   "metadata": {},
   "outputs": [],
   "source": [
    "np.savetxt(\"\", Xavg_ar, delimiter=\",\")\n",
    "np.savetxt(\"\", Xerr_ar, delimiter=\",\")\n",
    "np.savetxt(\"\", Kavg_ar, delimiter=\",\")\n",
    "np.savetxt(\"\", Kerr_ar, delimiter=\",\")"
   ]
  },
  {
   "cell_type": "markdown",
   "id": "7b769329-1bb9-463f-9449-69e52e3bc19a",
   "metadata": {},
   "source": [
    "# Getting Coefficients from VQE"
   ]
  },
  {
   "cell_type": "code",
   "execution_count": null,
   "id": "b9dcf6c7-8201-47c7-8823-41e169a7ceb6",
   "metadata": {},
   "outputs": [],
   "source": [
    "alpha_ar = np.linspace(0, np.pi/2, 100)"
   ]
  },
  {
   "cell_type": "markdown",
   "id": "27108c0f-a577-4de4-8152-6a9531541edf",
   "metadata": {},
   "source": [
    "### Direct Calculation"
   ]
  },
  {
   "cell_type": "code",
   "execution_count": null,
   "id": "446569e6-d99a-4913-a98b-de8ddf08284a",
   "metadata": {},
   "outputs": [],
   "source": [
    "thetamin_raw_ar = vqe.multiple_get_thetamin_VQE(alpha_ar, theta_ar, Xavg_ar, Kavg_ar)\n",
    "acoeff_ar, bcoeff_ar = vqe.getT_VQE(thetamin_raw_ar)"
   ]
  },
  {
   "cell_type": "markdown",
   "id": "b47c436c-0086-401f-bd22-30d8556e8871",
   "metadata": {},
   "source": [
    "### Calculation with Fourier Fits"
   ]
  },
  {
   "cell_type": "code",
   "execution_count": null,
   "id": "5c1917d5-53ed-4890-a258-bdad1140f79f",
   "metadata": {},
   "outputs": [],
   "source": [
    "maxn = 50"
   ]
  },
  {
   "cell_type": "code",
   "execution_count": null,
   "id": "7f8baa96-5612-4923-a0ce-614e9894f525",
   "metadata": {},
   "outputs": [],
   "source": [
    "Xfouriercoeff_ar = vqe.mult_fouriercoeff(theta_ar, np.pi, maxn, Xavg_ar)\n",
    "Kfouriercoeff_ar = vqe.mult_fouriercoeff(theta_ar, np.pi/2, maxn, Kavg_ar)"
   ]
  },
  {
   "cell_type": "code",
   "execution_count": null,
   "id": "93df5571-fea4-4f45-a408-d0124cbd84c1",
   "metadata": {},
   "outputs": [],
   "source": [
    "Xapprox_ar = vqe.fourierfit(theta_ar, [1, 3, 5, 7, 9], Xfouriercoeff_ar)\n",
    "Kapprox_ar = vqe.fourierfit(theta_ar, [0, 2, 4, 6, 8], Kfouriercoeff_ar)#"
   ]
  },
  {
   "cell_type": "markdown",
   "id": "04ec4235-987a-4d69-9a28-947373330bb7",
   "metadata": {},
   "source": [
    "Note that $\\langle X_i \\rangle$ is an odd function of $\\theta$ and $\\langle K_i \\rangle$ is an even function of $\\theta$. So, when calculating the fourier sum approximation, we can be selective with the coefficients. Also, the fourier sum is better truncated before the coeffficients get too high, wherin the fit will add back the experimental noise (of which the removal is the entire point of the fourier fitting). A plot of the magnitude of the coefficients can be done to see at what point they drop off and hence can be neglected in the fit."
   ]
  },
  {
   "cell_type": "code",
   "execution_count": null,
   "id": "14d15c3c-776e-4e2b-ab19-aba8130c8d85",
   "metadata": {},
   "outputs": [],
   "source": [
    "thetamin_approx_ar = vqe.multiple_get_thetamin_VQE(alpha_ar, theta_ar, Xapprox_ar, Kapprox_ar)\n",
    "acoeff_ar, bcoeff_ar = vqe.getT_VQE(thetamin_ar)"
   ]
  },
  {
   "cell_type": "markdown",
   "id": "ec47ef34-86c5-4584-a27d-d3f6b23f26e6",
   "metadata": {},
   "source": [
    "### Analytic Result"
   ]
  },
  {
   "cell_type": "code",
   "execution_count": null,
   "id": "13e1a5c0-eaa9-4ba8-a7e8-b5c42072f821",
   "metadata": {},
   "outputs": [],
   "source": [
    "Xavg_analytic_ar = vqe.predictedX(theta_ar)\n",
    "Kavg_analytic_ar = vqe.predictedK(theta_ar)\n",
    "\n",
    "thetamin_analytic_ar = vqe.multiple_get_thetamin_VQE(alpha_ar, theta_ar, Xavg_analytic_ar, Kavg_analytic_ar)\n",
    "acoeff_ar, bcoeff_ar = vqe.getT_VQE(thetamin_analytic_ar)"
   ]
  },
  {
   "cell_type": "markdown",
   "id": "d61dacf2-968a-484c-8ae1-8ee1f8644f99",
   "metadata": {},
   "source": [
    "## Saving Results"
   ]
  },
  {
   "cell_type": "code",
   "execution_count": null,
   "id": "0b9af6a3-6691-4ef2-9419-a3fa98886fdc",
   "metadata": {},
   "outputs": [],
   "source": [
    "np.savetxt(\"\", acoeff_ar, delimiter=\",\")\n",
    "np.savetxt(\"\", bcoeff_ar, delimiter=\",\")"
   ]
  }
 ],
 "metadata": {
  "kernelspec": {
   "display_name": "Python 3.9.7 ('qiskit_env')",
   "language": "python",
   "name": "python3"
  },
  "language_info": {
   "codemirror_mode": {
    "name": "ipython",
    "version": 3
   },
   "file_extension": ".py",
   "mimetype": "text/x-python",
   "name": "python",
   "nbconvert_exporter": "python",
   "pygments_lexer": "ipython3",
   "version": "3.9.7"
  },
  "vscode": {
   "interpreter": {
    "hash": "de1be3105a4234e1861a2a73f6c4aef2ceeb3228268acbfb3dd62a6cb11849ff"
   }
  }
 },
 "nbformat": 4,
 "nbformat_minor": 5
}
